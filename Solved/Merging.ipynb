{
 "cells": [
  {
   "cell_type": "code",
   "execution_count": null,
   "metadata": {},
   "outputs": [],
   "source": [
    "# Dependencies\n",
    "import pandas as pd"
   ]
  },
  {
   "cell_type": "code",
   "execution_count": null,
   "metadata": {},
   "outputs": [],
   "source": [
    "# Read in the following data into a DataFrame.\n",
    "raw_data_info = {\n",
    "    \"customer_id\": [112, 403, 999, 543, 123],\n",
    "    \"name\": [\"John\", \"Kelly\", \"Sam\", \"April\", \"Bobbo\"],\n",
    "    \"email\": [\"jman@gmail\", \"kelly@aol.com\", \"sports@school.edu\", \"April@yahoo.com\", \"HeyImBobbo@msn.com\"]\n",
    "}\n",
    "info_df = pd.DataFrame(raw_data_info)\n",
    "info_df"
   ]
  },
  {
   "cell_type": "code",
   "execution_count": null,
   "metadata": {},
   "outputs": [],
   "source": [
    "# Read in the following data into a DataFrame.\n",
    "raw_data_items = {\n",
    "    \"customer_id\": [403, 112, 543, 999, 654],\n",
    "    \"item\": [\"soda\", \"chips\", \"TV\", \"Laptop\", \"Cooler\"],\n",
    "    \"cost\": [3.00, 4.50, 600, 900, 150]\n",
    "}\n",
    "items_df = pd.DataFrame(raw_data_items)\n",
    "items_df"
   ]
  },
  {
   "cell_type": "code",
   "execution_count": null,
   "metadata": {},
   "outputs": [],
   "source": [
    "# Merge two dataframes using an inner join (default).\n",
    "merge_df = pd.merge(info_df, items_df, on=\"customer_id\")\n",
    "merge_df"
   ]
  },
  {
   "cell_type": "code",
   "execution_count": null,
   "metadata": {},
   "outputs": [],
   "source": [
    "# Merge two dataframes using an outer join\n",
    "merge_outer_df = pd.merge(info_df, items_df, on=\"customer_id\", how=\"outer\")\n",
    "merge_outer_df"
   ]
  },
  {
   "cell_type": "code",
   "execution_count": null,
   "metadata": {},
   "outputs": [],
   "source": [
    "# Merge two dataframes using a left join\n",
    "merge_left_df = pd.merge(info_df, items_df, on=\"customer_id\", how=\"left\")\n",
    "merge_left_df"
   ]
  },
  {
   "cell_type": "code",
   "execution_count": null,
   "metadata": {},
   "outputs": [],
   "source": [
    "# Merge two dataframes using a right join\n",
    "merge_right_df = pd.merge(info_df, items_df, on=\"customer_id\", how=\"right\")\n",
    "merge_right_df"
   ]
  },
  {
   "cell_type": "code",
   "execution_count": null,
   "metadata": {},
   "outputs": [],
   "source": [
    "#  Import the csv files and create DataFrames.\n",
    "bitcoin_csv = \"Resources/bitcoin_cash_price.csv\"\n",
    "dash_csv = \"Resources/dash_price.csv\"\n",
    "\n",
    "bitcoin_df = pd.read_csv(bitcoin_csv)\n",
    "dash_df = pd.read_csv(dash_csv)"
   ]
  },
  {
   "cell_type": "code",
   "execution_count": null,
   "metadata": {},
   "outputs": [],
   "source": [
    "bitcoin_df.head()"
   ]
  },
  {
   "cell_type": "code",
   "execution_count": null,
   "metadata": {},
   "outputs": [],
   "source": [
    "dash_df.head()"
   ]
  },
  {
   "cell_type": "code",
   "execution_count": null,
   "metadata": {},
   "outputs": [],
   "source": [
    "# Merge the two DataFrames together based on the Dates they share\n",
    "crypto_df = pd.merge(bitcoin_df, dash_df, on=\"Date\")\n",
    "crypto_df.head()"
   ]
  },
  {
   "cell_type": "code",
   "execution_count": null,
   "metadata": {},
   "outputs": [],
   "source": [
    "# Rename columns so that they are differentiated\n",
    "crypto_df = crypto_df.rename(columns={\"Open_x\": \"Bitcoin Open\", \n",
    "                                      \"High_x\": \"Bitcoin High\", \n",
    "                                      \"Low_x\": \"Bitcoin Low\",\n",
    "                                      \"Close_x\": \"Bitcoin Close\", \n",
    "                                      \"Volume_x\": \"Bitcoin Volume\", \n",
    "                                      \"Market Cap_x\": \"Bitcoin Market Cap\"})\n",
    "\n",
    "crypto_df = crypto_df.rename(columns={\"Open_y\": \"Dash Open\", \n",
    "                                      \"High_y\": \"Dash High\", \n",
    "                                      \"Low_y\": \"Dash Low\",\n",
    "                                      \"Close_y\": \"Dash Close\", \n",
    "                                      \"Volume_y\": \"Dash Volume\", \n",
    "                                      \"Market Cap_y\": \"Dash Market Cap\"})\n",
    "\n",
    "crypto_df.head()"
   ]
  },
  {
   "cell_type": "code",
   "execution_count": null,
   "metadata": {},
   "outputs": [],
   "source": [
    "# Alternatively you can set your suffixes using suffixes=(\"_Bitcoin\", \"_Dash\") \n",
    "# in the merge funciton when the merge occurs.\n",
    "alternative_df = pd.merge(\n",
    "    bitcoin_df, dash_df, on=\"Date\", suffixes=(\"_Bitcoin\", \"_Dash\"))\n",
    "alternative_df.head()"
   ]
  },
  {
   "cell_type": "code",
   "execution_count": null,
   "metadata": {},
   "outputs": [],
   "source": []
  }
 ],
 "metadata": {
  "anaconda-cloud": {},
  "kernelspec": {
   "display_name": "PythonData",
   "language": "python",
   "name": "pythondata"
  },
  "language_info": {
   "codemirror_mode": {
    "name": "ipython",
    "version": 3
   },
   "file_extension": ".py",
   "mimetype": "text/x-python",
   "name": "python",
   "nbconvert_exporter": "python",
   "pygments_lexer": "ipython3",
   "version": "3.8.5"
  }
 },
 "nbformat": 4,
 "nbformat_minor": 2
}
