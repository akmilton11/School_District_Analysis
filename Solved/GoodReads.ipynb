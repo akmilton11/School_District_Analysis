{
 "cells": [
  {
   "cell_type": "code",
   "execution_count": null,
   "metadata": {},
   "outputs": [],
   "source": [
    "# Import Dependencies\n",
    "import pandas as pd"
   ]
  },
  {
   "cell_type": "code",
   "execution_count": null,
   "metadata": {},
   "outputs": [],
   "source": [
    "# Make a reference to the books.csv file path\n",
    "csv_path = \"Resources/books.csv\"\n",
    "\n",
    "# Import the books.csv file as a DataFrame\n",
    "books_df = pd.read_csv(csv_path, encoding=\"utf-8\")\n",
    "books_df.head()"
   ]
  },
  {
   "cell_type": "code",
   "execution_count": null,
   "metadata": {},
   "outputs": [],
   "source": [
    "#  Get the data types of each column.\n",
    "books_df.dtypes"
   ]
  },
  {
   "cell_type": "code",
   "execution_count": null,
   "metadata": {},
   "outputs": [],
   "source": [
    "#  Get a list of all columns within the DataFrame.\n",
    "books_df.columns"
   ]
  },
  {
   "cell_type": "code",
   "execution_count": null,
   "metadata": {},
   "outputs": [],
   "source": [
    "# Remove unecessary columns from the DataFrame and save the new DataFrame\n",
    "# Only keep: \"isbn\", \"original_publication_year\", \"original_title\", \"authors\",\n",
    "# \"ratings_1\", \"ratings_2\", \"ratings_3\", \"ratings_4\", \"ratings_5\"\n",
    "reduced_df = books_df[[\"isbn\", \"original_publication_year\", \"original_title\", \"authors\",\n",
    "                       \"ratings_1\", \"ratings_2\", \"ratings_3\", \"ratings_4\", \"ratings_5\"]]\n",
    "reduced_df.head()"
   ]
  },
  {
   "cell_type": "code",
   "execution_count": null,
   "metadata": {},
   "outputs": [],
   "source": [
    "# Rename the headers to be more explanatory\n",
    "renamed_df = reduced_df.rename(columns={\"isbn\": \"ISBN\",\n",
    "                                        \"original_title\": \"Original Title\",\n",
    "                                        \"original_publication_year\": \"Publication Year\",\n",
    "                                        \"authors\": \"Authors\",\n",
    "                                        \"ratings_1\": \"One Star Reviews\",\n",
    "                                        \"ratings_2\": \"Two Star Reviews\",\n",
    "                                        \"ratings_3\": \"Three Star Reviews\",\n",
    "                                        \"ratings_4\": \"Four Star Reviews\",\n",
    "                                        \"ratings_5\": \"Five Star Reviews\", })\n",
    "renamed_df.head()"
   ]
  },
  {
   "cell_type": "code",
   "execution_count": null,
   "metadata": {},
   "outputs": [],
   "source": []
  }
 ],
 "metadata": {
  "kernelspec": {
   "display_name": "PythonData",
   "language": "python",
   "name": "pythondata"
  },
  "language_info": {
   "codemirror_mode": {
    "name": "ipython",
    "version": 3
   },
   "file_extension": ".py",
   "mimetype": "text/x-python",
   "name": "python",
   "nbconvert_exporter": "python",
   "pygments_lexer": "ipython3",
   "version": "3.8.5"
  },
  "nteract": {
   "version": "0.11.9"
  }
 },
 "nbformat": 4,
 "nbformat_minor": 2
}
